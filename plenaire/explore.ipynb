{
 "cells": [
  {
   "cell_type": "code",
   "execution_count": 1,
   "metadata": {},
   "outputs": [],
   "source": [
    "import os\n",
    "from bs4 import BeautifulSoup\n",
    "\n",
    "html_dir = \"html\"\n",
    "offset = 19\n",
    "amount = 1\n",
    "\n",
    "# List to store BeautifulSoup objects\n",
    "soups = dict()\n",
    "\n",
    "# Loop through each file in the specified directory\n",
    "for filename in sorted(os.listdir(html_dir))[offset:offset+amount]:\n",
    "    # Check if the file is an HTML file\n",
    "    if filename.endswith('.html'):\n",
    "        # Construct full file path\n",
    "        file_path = os.path.join(html_dir, filename)\n",
    "        # Open and read the HTML file\n",
    "        with open(file_path, 'r', encoding=\"latin-1\") as file:\n",
    "            # Create a BeautifulSoup object and append it to the list\n",
    "            soup = BeautifulSoup(file, 'html.parser')\n",
    "            soups[filename] = soup"
   ]
  },
  {
   "cell_type": "code",
   "execution_count": 2,
   "metadata": {},
   "outputs": [
    {
     "data": {
      "text/plain": [
       "1"
      ]
     },
     "execution_count": 2,
     "metadata": {},
     "output_type": "execute_result"
    }
   ],
   "source": [
    "len(soups)"
   ]
  },
  {
   "cell_type": "markdown",
   "metadata": {},
   "source": [
    "# Capture the vote subjects"
   ]
  },
  {
   "cell_type": "code",
   "execution_count": 6,
   "metadata": {},
   "outputs": [
    {
     "name": "stdout",
     "output_type": "stream",
     "text": [
      "0020: <p class=\"Titre1NL\"><a name=\"_Toc35851493\"><span lang=\"FR\" style=\"mso-ansi-language:\n",
      "FR\">Naamstemmingen</span></a><span lang=\"FR\" style=\"mso-ansi-language:FR\"><o:p></o:p></span></p>\n",
      "----------------------------------------------------------------------------------------------------\n",
      "\n",
      "Found SUBTITLE: 14 aangehouden amendementen op\n",
      "het voorstel van resolutie over de toetreding van belgië tot het internationaal\n",
      "verbodsverdrag op kernwapens (372/1-7)\n",
      "Found VOTE: (stemming/vote 1)\n",
      "Found VOTE: (stemming/vote 2)\n",
      "Found VOTE: (stemming/vote 3)\n",
      "Found VOTE: (stemming/vote 4)\n",
      "Found VOTE: (stemming/vote 5)\n",
      "Found VOTE: (stemming/vote 6)\n",
      "Found VOTE: (stemming/vote 7)\n",
      "Found VOTE: (stemming/vote 7)\n",
      "0020: <p class=\"Titre1NL\"><a name=\"_Toc35851499\"><span lang=\"NL\">Naamstemmingen <i>(voortzetting)</i></span></a></p>\n",
      "----------------------------------------------------------------------------------------------------\n",
      "\n",
      "Found SUBTITLE: 18 geheel van het voorstel van\n",
      "resolutie over de toetreding van belgië tot het internationaal verbods­verdrag\n",
      "op kernwapens, zoals geamendeerd (372/6+7)\n",
      "Found VOTE: (stemming/vote 8)\n",
      "\n",
      "Found SUBTITLE: 19 goedkeuring van de agenda\n",
      "0020: <p align=\"center\" class=\"Titre1NL\" style=\"text-align:center\"><a name=\"_Toc35851502\"><span lang=\"NL\" style=\"text-transform:uppercase\">Detail van\n",
      "  de naamstemmingen</span></a><span lang=\"NL\" style=\"text-transform:uppercase\"><o:p></o:p></span></p>\n",
      "----------------------------------------------------------------------------------------------------\n"
     ]
    }
   ],
   "source": [
    "from dataclasses import dataclass\n",
    "from typing import Dict, List, Optional, Tuple\n",
    "import re\n",
    "from copy import copy\n",
    "\n",
    "def is_subject(tag):\n",
    "    return (tag.name == \"p\" and \"Titre2NL\" in tag.get('class', [])) or \\\n",
    "        (tag.name == \"h2\" and tag.get('class', []) == [] and not tag.find('span', attrs={'lang': 'FR'}))\n",
    "\n",
    "def is_section(tag):\n",
    "    return (tag.name == \"p\" and (\"Titre1NL\" in tag.get('class', []) or \"Titre1FR\" in tag.get('class', []))) or \\\n",
    "        (tag.name == \"h1\" and tag.get('class', []))\n",
    "\n",
    "@dataclass\n",
    "class Vote:\n",
    "    session_id: str\n",
    "    nr_within_session: int = -1\n",
    "    subject: str = \"\"\n",
    "\n",
    "votes: Dict[Tuple[str, int], Vote] = dict()\n",
    "def close_vote_and_start_new(Vote, votes, session_id, current_vote, tag_text):\n",
    "    if current_vote.subject and current_vote.nr_within_session != -1:\n",
    "        votes[(session_id, current_vote.nr_within_session)] = copy(current_vote)\n",
    "    current_vote = Vote(session_id=session_id, subject=tag_text + \"\\n\")\n",
    "    return current_vote\n",
    "\n",
    "for i, (filename, soup) in enumerate(soups.items()):\n",
    "    naamstemmingen = soup.find_all(lambda tag: ((tag.name == \"p\" and tag.get(\"class\") == [\"Titre1NL\"]) or (tag.name == \"h1\")) and \"naamstemmingen\" in tag.text.lower().strip())\n",
    "    for naamstemming in naamstemmingen:\n",
    "        session_id = f\"{i+1+offset:04d}\"\n",
    "        print(f\"{session_id}: {naamstemming}\")\n",
    "        print(\"-\"*100)\n",
    "\n",
    "        current_vote: Vote = Vote(session_id=session_id)\n",
    "        last_tag_was_subject = False\n",
    "        for j, tag in enumerate(naamstemming.next_siblings):\n",
    "            tag_text = \" \".join(tag.strings).lower()\n",
    "\n",
    "            # Next siblings also produces a nonsense string (like \\n) after every real tag\n",
    "            # So skip all even next tags, which will be nonsense (but annoyingly, a different nonsense every document)\n",
    "            if j % 2 == 0:\n",
    "                continue\n",
    "\n",
    "            # A bold (titre2) sentence in dutch signifies a subject of a vote. It can be a new subject\n",
    "            # or a new line in the current subject. Depends on whether the previous sentence was also a subject\n",
    "            # or not\n",
    "            if is_subject(tag):\n",
    "                # Every subtitle in between \"Naamstemmingen\" and the next H1 title is considered part of a vote\n",
    "                # If the previous tag was a subject, this new line is part of the previous one\n",
    "                print(f\"\\nFound SUBTITLE: {tag_text}\")\n",
    "                if last_tag_was_subject:\n",
    "                    current_vote.subject += tag_text + \"\\n\"\n",
    "                else:\n",
    "                    # If not: consider this to be a new vote, close off the old one and reset\n",
    "                    current_vote = close_vote_and_start_new(Vote, votes, session_id, current_vote, tag_text)\n",
    "                last_tag_was_subject = True\n",
    "            elif is_section(tag):\n",
    "                # If we hit the next Title, the voting section is done\n",
    "                # This should never happen right after a subtitle, otherwise we won't have the vote nr anyway\n",
    "                # However, we're searching for \"naamstemmingen\" so it might happen the french version is next immediately below\n",
    "                # it's also a title, so skip that\n",
    "                if \"votes nominatifs\" in tag_text:\n",
    "                    last_tag_was_subject = False\n",
    "                    continue\n",
    "                # If this is truly a next title, close off the current vote and break the loop\n",
    "                current_vote = close_vote_and_start_new(Vote, votes, session_id, current_vote, tag_text)\n",
    "                break\n",
    "            else:\n",
    "                # In this case it's normal text\n",
    "                # First, check if it contains the vote nr (aka we're in between vote headers)\n",
    "                vote_match = re.search(r'\\(stemming\\/vote(?:\\s|&nbsp;)* *\\d+\\)', tag_text, re.IGNORECASE)\n",
    "                if vote_match:\n",
    "                    # Extract the matched text\n",
    "                    matched_text = vote_match.group()\n",
    "                    print(f\"Found VOTE: {matched_text}\")\n",
    "                    # Extract the number, assuming it's the last part of the matched string\n",
    "                    number = int(re.search(r'\\d+', matched_text).group())\n",
    "                    # Set the current vote to that number\n",
    "                    current_vote.nr_within_session = number\n",
    "                last_tag_was_subject = False\n",
    "            \n",
    "        # If this is truly a next title, close off the current vote and break the loop\n",
    "        close_vote_and_start_new(Vote, votes, session_id, current_vote, tag_text)"
   ]
  },
  {
   "cell_type": "code",
   "execution_count": 7,
   "metadata": {},
   "outputs": [
    {
     "data": {
      "text/plain": [
       "{('0020',\n",
       "  7): Vote(session_id='0020', nr_within_session=7, subject='14 aangehouden amendementen op\\nhet voorstel van resolutie over de toetreding van belgië tot het internationaal\\nverbodsverdrag op kernwapens (372/1-7)\\n'),\n",
       " ('0020',\n",
       "  8): Vote(session_id='0020', nr_within_session=8, subject='18 geheel van het voorstel van\\nresolutie over de toetreding van belgië tot het internationaal verbods\\xadverdrag\\nop kernwapens, zoals geamendeerd (372/6+7)\\n')}"
      ]
     },
     "execution_count": 7,
     "metadata": {},
     "output_type": "execute_result"
    }
   ],
   "source": [
    "votes"
   ]
  },
  {
   "cell_type": "markdown",
   "metadata": {},
   "source": [
    "# Capture the date of the session"
   ]
  },
  {
   "cell_type": "code",
   "execution_count": 8,
   "metadata": {},
   "outputs": [
    {
     "data": {
      "text/plain": [
       "'16 januari 2020'"
      ]
     },
     "execution_count": 8,
     "metadata": {},
     "output_type": "execute_result"
    }
   ],
   "source": [
    "re.search(\n",
    "    r\"([1-9]|[1-2][0-9]|3[0-1])[\\s\\\\n]*(januari|februari|maart|april|mei|juni|juli|augustus|september|oktober|november|december)[\\s\\\\n]*(\\d{4})\",\n",
    "    \"\\n\".join(list(soup.strings)),\n",
    "    re.IGNORECASE\n",
    ").group().replace(\"\\n\", \"\")"
   ]
  },
  {
   "cell_type": "code",
   "execution_count": 9,
   "metadata": {},
   "outputs": [
    {
     "name": "stdout",
     "output_type": "stream",
     "text": [
      "16 \n",
      "januari \n",
      "2020\n",
      "\n",
      "\n"
     ]
    }
   ],
   "source": [
    "for soup in soups.values():\n",
    "    print(re.search(\n",
    "        r\"([1-9]|[1-2][0-9]|3[0-1])[\\s\\\\n]*(januari|februari|maart|april|mei|juni|juli|augustus|september|oktober|november|december)[\\s\\\\n]*(\\d{4})\",\n",
    "        \"\\n\".join(list(soup.strings)),\n",
    "        re.IGNORECASE\n",
    "    ).group())\n",
    "    print(\"\\n\")"
   ]
  },
  {
   "cell_type": "markdown",
   "metadata": {},
   "source": [
    "# Capture the names from the vote details"
   ]
  },
  {
   "cell_type": "code",
   "execution_count": 11,
   "metadata": {},
   "outputs": [],
   "source": [
    "import logging\n",
    "\n",
    "\n",
    "for i, (filename, soup) in enumerate(soups.items()):\n",
    "    session_id = f\"{i+1+offset:04d}\"\n",
    "    vote_details = soup.find(lambda tag: ((tag.name == \"p\" and tag.get(\"class\") == [\"Titre1NL\"]) or (tag.name == \"h1\")) and \"detail\" in tag.text.lower() and \"naamstemmingen\" in tag.text.lower())\n",
    "    if vote_details:\n",
    "        if vote_details.name == \"p\" and vote_details.get(\"class\", [\"\"])[0].startswith(\"Titre1\"):\n",
    "            vote_tag = vote_details\n",
    "        else:\n",
    "            # Other vote details are inside a table tag, that table tag is on the same level as the vote details, so to use next_siblings\n",
    "            # we want to go up to the table tag\n",
    "            vote_tag = None\n",
    "            for parent in vote_details.parents:\n",
    "                if parent.name == \"table\" or ():\n",
    "                    vote_tag = parent\n",
    "        \n",
    "        if vote_tag is None:\n",
    "            raise ValueError(\"The naamstemmingen details are not in the expected place!\")\n",
    "        \n",
    "        # Now iterate over the tags on this level, this should include either a table of results (yes, no or abstention) as well as the list of names\n",
    "        current_vote = None\n",
    "        for tag in vote_tag.next_siblings:\n",
    "            tag_text = \" \".join(tag.strings).lower()\n",
    "            stemming_match = re.search(r\"naamstemming: (\\d{3})\", tag_text, re.IGNORECASE)\n",
    "\n",
    "            if not stemming_match:\n",
    "                continue\n",
    "\n",
    "            stemming_nr = stemming_match.groups()[0]\n",
    "            if stemming_nr:\n",
    "                current_vote = votes.get((session_id, int(stemming_nr)))\n",
    "                if not current_vote:\n",
    "                    logging.warning(f\"Did not find vote {session_id} -> {stemming_nr}\")\n",
    "                    continue\n",
    "                print((session_id, int(stemming_nr)))\n",
    "\n",
    "            # Parse the YES names, NO names and ABSTENTION names\n",
    "            if current_vote:\n",
    "                print(tag_text)\n",
    "                if \"ja\" in tag_text and \"oui\" in tag_text:\n",
    "                    print(\"ja\")\n",
    "                elif \"nee\" in tag_text and \"non\" in tag_text:\n",
    "                    print(\"nee\")\n",
    "                elif \"abstentions\" and \"onthoudingen\" in tag_text:\n",
    "                    print(\"onthouden\")\n",
    "                \n",
    "\n",
    "            "
   ]
  },
  {
   "cell_type": "code",
   "execution_count": 51,
   "metadata": {},
   "outputs": [
    {
     "data": {
      "text/plain": [
       "'002'"
      ]
     },
     "execution_count": 51,
     "metadata": {},
     "output_type": "execute_result"
    }
   ],
   "source": [
    "stemming_nr"
   ]
  },
  {
   "cell_type": "code",
   "execution_count": null,
   "metadata": {},
   "outputs": [],
   "source": []
  }
 ],
 "metadata": {
  "kernelspec": {
   "display_name": ".venv",
   "language": "python",
   "name": "python3"
  },
  "language_info": {
   "codemirror_mode": {
    "name": "ipython",
    "version": 3
   },
   "file_extension": ".py",
   "mimetype": "text/x-python",
   "name": "python",
   "nbconvert_exporter": "python",
   "pygments_lexer": "ipython3",
   "version": "3.12.3"
  }
 },
 "nbformat": 4,
 "nbformat_minor": 2
}
